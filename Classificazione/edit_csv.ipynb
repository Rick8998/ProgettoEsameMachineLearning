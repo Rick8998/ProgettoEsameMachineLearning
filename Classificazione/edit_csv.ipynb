{
 "cells": [
  {
   "cell_type": "markdown",
   "metadata": {},
   "source": [
    "In questo script si rimuove un oggetto che creava problemi con Weka a causa del nome\n",
    "\n",
    "Inoltre si rimuovono i possibili missing values e si convertono i valori nominali in numerici"
   ]
  },
  {
   "cell_type": "code",
   "execution_count": 4,
   "metadata": {},
   "outputs": [],
   "source": [
    "import numpy as np\n",
    "import pandas as pd\n",
    "import matplotlib.pyplot as plt\n",
    "from sklearn.preprocessing import LabelEncoder\n",
    "from sklearn.preprocessing import MinMaxScaler\n",
    "\n",
    "\n",
    "df = pd.read_csv('neo_v2.csv')"
   ]
  },
  {
   "cell_type": "code",
   "execution_count": 5,
   "metadata": {},
   "outputs": [
    {
     "name": "stdout",
     "output_type": "stream",
     "text": [
      "Numero di occorrenze con valore False: 25250\n",
      "Numero di occorrenze con valore True: 2173\n"
     ]
    }
   ],
   "source": [
    "df = df.drop(df[df['name'] == \"594913 'Aylo'chaxnim (2020 AV2)\"].index)\n",
    "df = df.dropna()\n",
    "df = df.drop_duplicates(subset=['name'])\n",
    "#tolgo nomi e id, perchè essendo valori numerici potrebbero inficiare sul calcolo della distanza senza essere features rilevanti per tale calcolo\n",
    "df = df.drop(columns=['id', 'name'])\n",
    "colonne_da_convertire = [\"orbiting_body\", \"sentry_object\"]\n",
    "label_encoder = LabelEncoder()\n",
    "for colonna in colonne_da_convertire:\n",
    "    df[colonna] = label_encoder.fit_transform(df[colonna])+1\n",
    "\n",
    "\n",
    "columns_to_normalize = df.columns.difference(['orbiting_body', 'sentry_object', 'hazardous'])\n",
    "scaler = MinMaxScaler()\n",
    "\n",
    "# Applica la normalizzazione solo sulle colonne numeriche\n",
    "df[columns_to_normalize] = scaler.fit_transform(df[columns_to_normalize])\n",
    "\n",
    "count_false = df['hazardous'].value_counts()[False]\n",
    "print(\"Numero di occorrenze con valore False:\", count_false)\n",
    "\n",
    "count_true = df['hazardous'].value_counts()[True]\n",
    "print(\"Numero di occorrenze con valore True:\", count_true)"
   ]
  },
  {
   "cell_type": "code",
   "execution_count": 6,
   "metadata": {},
   "outputs": [],
   "source": [
    "df.to_csv(\"neo_v2_edited.csv\", index=False)"
   ]
  },
  {
   "cell_type": "code",
   "execution_count": 7,
   "metadata": {},
   "outputs": [],
   "source": [
    "sampled_df = df.sample(n=10000, random_state=42)\n",
    "sampled_df.to_csv(\"neo_v2_sampled.csv\", index=False)"
   ]
  }
 ],
 "metadata": {
  "kernelspec": {
   "display_name": "base",
   "language": "python",
   "name": "python3"
  },
  "language_info": {
   "codemirror_mode": {
    "name": "ipython",
    "version": 3
   },
   "file_extension": ".py",
   "mimetype": "text/x-python",
   "name": "python",
   "nbconvert_exporter": "python",
   "pygments_lexer": "ipython3",
   "version": "3.10.9"
  },
  "orig_nbformat": 4
 },
 "nbformat": 4,
 "nbformat_minor": 2
}
