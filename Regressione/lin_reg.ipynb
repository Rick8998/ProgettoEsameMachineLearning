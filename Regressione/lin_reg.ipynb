{
 "cells": [
  {
   "cell_type": "code",
   "execution_count": 30,
   "metadata": {},
   "outputs": [],
   "source": [
    "import numpy as np\n",
    "import pandas as pd\n",
    "import matplotlib.pyplot as plt"
   ]
  },
  {
   "cell_type": "markdown",
   "metadata": {},
   "source": [
    "Funzione per la discesa del gradiente\n",
    "- alpha => learning rate\n",
    "- tolerance => ciò che ci permette di fermarci quando non ci sono più miglioramenti significativi nella funzione di costo\n",
    "- theta => parametri da apprendere\n",
    "- x => features\n",
    "- y => target\n",
    "- m => numero di esempi"
   ]
  },
  {
   "cell_type": "code",
   "execution_count": 31,
   "metadata": {},
   "outputs": [],
   "source": [
    "def gradientDescent(alpha, tolerance, theta, x, y, m):\n",
    "    \n",
    "    previousCost = 1000000000000000\n",
    "    while True:\n",
    "        h = np.dot(x, theta) # ipotesi, ovvero i valori predetti\n",
    "        #Discesa del gradiente\n",
    "        theta = theta - ((alpha * (1/m)) * np.dot((h - y).T, x).T)\n",
    "        j_cost = (np.sum((h - y)**2))/(2*m)\n",
    "        diff = previousCost - j_cost\n",
    "        if diff < tolerance:\n",
    "            break\n",
    "        else:\n",
    "            # aggiornamento costo\n",
    "            previousCost = j_cost\n",
    "\n",
    "    return theta"
   ]
  },
  {
   "cell_type": "markdown",
   "metadata": {},
   "source": [
    "Funzione per calcolare le predizioni\n",
    "- x_test => features del test set\n",
    "- theta => parametri derivanti dalla fase di training\n",
    "Esegue una combinazione lineare tra la matrice delle features x_test e il vettore dei pesi theta"
   ]
  },
  {
   "cell_type": "code",
   "execution_count": 32,
   "metadata": {},
   "outputs": [],
   "source": [
    "def predictions(x_test, theta):\n",
    "    pred = np.dot(x_test, theta)\n",
    "    return pred"
   ]
  },
  {
   "cell_type": "markdown",
   "metadata": {},
   "source": [
    "Funzione per la valutazione\n",
    "- prediction => predizioni del modello\n",
    "- target => target del dataset"
   ]
  },
  {
   "cell_type": "code",
   "execution_count": 33,
   "metadata": {},
   "outputs": [],
   "source": [
    "def modelEvaluation(prediction, target):\n",
    "    meanTarget = np.mean(target)\n",
    "\n",
    "    #R2\n",
    "    sse = np.sum((prediction-target)**2)\n",
    "    sst = np.sum((target - meanTarget)**2)\n",
    "    r2 = 1- (sse/sst)\n",
    "\n",
    "    #Mean absolute error\n",
    "    mae = np.mean(np.abs(prediction - target))\n",
    "\n",
    "    #RMSE\n",
    "    rmse = np.sqrt((np.sum((prediction - target)**2)) / len(prediction))\n",
    "\n",
    "    return (r2, rmse)"
   ]
  },
  {
   "cell_type": "markdown",
   "metadata": {},
   "source": [
    "Funzioni di stampa dei risultati"
   ]
  },
  {
   "cell_type": "code",
   "execution_count": 34,
   "metadata": {},
   "outputs": [],
   "source": [
    "def printLinRegFunction(theta, data):\n",
    "    print(\"########## MODELLO ##########\")\n",
    "    print('\\nLGND: ' + data.columns.values[len(theta)] + \" = Theta * feature\")\n",
    "    print('\\n' + data.columns.values[len(theta)] + \" = \")\n",
    "    for i in range(len(theta)):\n",
    "        print('\\t' + str(round(theta[i], 5)) + ' * ' + data.columns.values[i] + ' +')\n",
    "\n",
    "\n",
    "def printEvaluationResults(r2, rmse):\n",
    "    print('\\n########## RISULTATI VALUTAZIONE ##########')\n",
    "    print('\\nR2 = ' + str(round(r2, 5)))\n",
    "    print('Root Mean Squared Error = ' + str(round(rmse, 5)))"
   ]
  },
  {
   "cell_type": "markdown",
   "metadata": {},
   "source": [
    "### Carico il dataset"
   ]
  },
  {
   "cell_type": "code",
   "execution_count": 35,
   "metadata": {},
   "outputs": [],
   "source": [
    "dataset = pd.read_csv('cars_numeric.csv')\n",
    "\n",
    "# è meglio mischaire le righe del dataset\n",
    "dataset = dataset.sample(frac=1).reset_index(drop=True)\n",
    "\n",
    "# bisogna inserire la colonna di bias\n",
    "dataset.insert(0, 'bias', np.ones(dataset.shape[0]), True)"
   ]
  },
  {
   "cell_type": "markdown",
   "metadata": {},
   "source": [
    "### Valutazione tramite split 70/30"
   ]
  },
  {
   "cell_type": "code",
   "execution_count": 36,
   "metadata": {},
   "outputs": [],
   "source": [
    "training_set = dataset.head(round(len(dataset)*(70/100)))\n",
    "test_set = dataset.tail(len(dataset) - len(training_set)).reset_index(drop=True)\n",
    "\n",
    "#fase di fit\n",
    "alpha = 0.1\n",
    "tolerance = 0.000001\n",
    "x = training_set.drop('price', axis = 1).values\n",
    "y = training_set['price'].values\n",
    "m = len(training_set)\n",
    "\n",
    "#inizializzazione dei theta\n",
    "# genero un array di theta casuali inizializzati in base ai valori massimi e minimi dei dati \n",
    "# target (y) e in base al numero di features nella matrice delle features (x)\n",
    "theta = np.random.uniform(-(np.max(y)), np.max(y), size=x.shape[1])\n",
    "\n",
    "finalTheta = gradientDescent(alpha=alpha, tolerance=tolerance, theta=theta, x=x, y=y, m=m)\n",
    "\n",
    "\n",
    "#Valutazione\n",
    "x_test = test_set.drop('price', axis = 1).values\n",
    "predizione = predictions(x_test, finalTheta)\n",
    "y_dataset = test_set['price'].values\n",
    "\n",
    "r2, rmse = modelEvaluation(prediction=predizione, target=y_dataset)"
   ]
  },
  {
   "cell_type": "markdown",
   "metadata": {},
   "source": [
    "### Stampe & grafici"
   ]
  },
  {
   "cell_type": "code",
   "execution_count": 37,
   "metadata": {},
   "outputs": [
    {
     "name": "stdout",
     "output_type": "stream",
     "text": [
      "VALUTAZIONE DEL MODELLO TRAMITE SPLIT 70/30\n",
      "########## MODELLO ##########\n",
      "\n",
      "LGND: price = Theta * feature\n",
      "\n",
      "price = \n",
      "\t13146.29108 * bias +\n",
      "\t-345.00655 * symboling +\n",
      "\t-182.81807 * normalized-losses +\n",
      "\t-1111.53379 * make +\n",
      "\t1992.40873 * fuel-type +\n",
      "\t818.47664 * aspiration +\n",
      "\t-364.18112 * num-of-doors +\n",
      "\t-395.13604 * body-style +\n",
      "\t-1050.18042 * drive-wheels +\n",
      "\t1469.41981 * engine-location +\n",
      "\t141.64599 * wheel-base +\n",
      "\t1403.95807 * length +\n",
      "\t1108.6521 * width +\n",
      "\t374.43067 * height +\n",
      "\t-493.7737 * curb-weight +\n",
      "\t439.49815 * engine-type +\n",
      "\t1389.0468 * num-of-cylinders +\n",
      "\t4149.0855 * engine-size +\n",
      "\t-858.69397 * fuel-system +\n",
      "\t-312.65395 * bore +\n",
      "\t-630.0351 * stroke +\n",
      "\t-1082.98042 * compression-ratio +\n",
      "\t430.14456 * horsepower +\n",
      "\t735.75937 * peak-rpm +\n",
      "\t-1237.83991 * city-mpg +\n",
      "\t1568.75648 * highway-mpg +\n",
      "\n",
      "########## RISULTATI VALUTAZIONE ##########\n",
      "\n",
      "R2 = 0.87092\n",
      "Root Mean Squared Error = 2478.37803\n"
     ]
    }
   ],
   "source": [
    "print(\"VALUTAZIONE DEL MODELLO TRAMITE SPLIT 70/30\")\n",
    "printLinRegFunction(theta=finalTheta, data=dataset)\n",
    "printEvaluationResults(r2=r2, rmse=rmse)"
   ]
  },
  {
   "cell_type": "code",
   "execution_count": 38,
   "metadata": {},
   "outputs": [
    {
     "data": {
      "image/png": "[encoded data removed]",
      "text/plain": [
       "<Figure size 720x720 with 1 Axes>"
      ]
     },
     "metadata": {
      "needs_background": "light"
     },
     "output_type": "display_data"
    }
   ],
   "source": [
    "plt.figure(figsize=(10,10))\n",
    "plt.scatter(x = y_dataset, y = predizione, c='red') \n",
    "plt.title(\"TEST RESULTS\\nSPLIT 70% TRAIN - 30% TEST\", fontsize=20)\n",
    "plt.xlabel(\"Prezzo effettivo\", fontsize=20)\n",
    "plt.ylabel(\"Prezzo predetto\", fontsize=20)\n",
    "plt.show()"
   ]
  },
  {
   "cell_type": "markdown",
   "metadata": {},
   "source": [
    "### Cross validazione"
   ]
  },
  {
   "cell_type": "markdown",
   "metadata": {},
   "source": [
    "Funzione per la cross validazione"
   ]
  },
  {
   "cell_type": "code",
   "execution_count": 39,
   "metadata": {},
   "outputs": [],
   "source": [
    "def crossValidation(alpha, tolerance, n_folds, dataset):\n",
    "    foldDimension = dataset.shape[0] // n_folds\n",
    "    finalTheta = 0\n",
    "    bestRMSE = 0\n",
    "    somma_r2 = 0\n",
    "    somma_rmse = 0\n",
    "\n",
    "    for i in range(n_folds):\n",
    "        startFold = i * foldDimension\n",
    "        endFold = (i+1) * foldDimension\n",
    "\n",
    "        # per il training set \"tolgo\" i fold fra startFold e endFold\n",
    "        # training_set è un nuovo dataframe con le righe indicate dall'intervallo [startFold : endFold] eliminate e con un nuovo indice sequenziale\n",
    "        training_set = dataset.drop(dataset.index[startFold : endFold]).reset_index(drop = True)\n",
    "        x_training = training_set.drop('price', axis = 1).values\n",
    "        y_training = training_set['price'].values\n",
    "\n",
    "        # uso i fold tolti per il test set\n",
    "        test_set = dataset[startFold : endFold].reset_index(drop = True)\n",
    "        x_test = test_set.drop('price', axis = 1).values\n",
    "        y_test = test_set['price'].values\n",
    "\n",
    "        m = len(training_set)\n",
    "\n",
    "        # genero un array di theta casuali inizializzati in base ai valori massimi e minimi dei dati \n",
    "        # target (y_training) e in base al numero di features nella matrice delle features (x_training)\n",
    "        theta = np.random.uniform(-(np.max(y_training)), np.max(y_training), size=x_training.shape[1])\n",
    "        thetaTrain = gradientDescent(alpha, tolerance, theta, x_training, y_training, m)\n",
    "\n",
    "        prediction = predictions(x_test=x_test, theta=thetaTrain)\n",
    "\n",
    "        r2, rmse = modelEvaluation(prediction=prediction, target=y_test)\n",
    "\n",
    "        if i == 0:\n",
    "            finalTheta = thetaTrain\n",
    "            bestRMSE = rmse\n",
    "        elif rmse < bestRMSE:\n",
    "            finalTheta = thetaTrain\n",
    "            bestRMSE = rmse\n",
    "\n",
    "        somma_r2 = somma_r2 + r2\n",
    "        somma_rmse = somma_rmse + rmse\n",
    "\n",
    "    # dividendo le somme per nfolds si ottiene una media delle misure di valutazione su tutti i fold, \n",
    "    # rende le stime più rappresentative delle prestazioni del modello sull'intero dataset\n",
    "    sum_r2_mean = somma_r2/n_folds\n",
    "    sum_rmse_mean = somma_rmse/n_folds\n",
    "\n",
    "    return finalTheta, sum_r2_mean, sum_rmse_mean"
   ]
  },
  {
   "cell_type": "markdown",
   "metadata": {},
   "source": [
    "altra versione della corss validazione (da testare)"
   ]
  },
  {
   "cell_type": "code",
   "execution_count": 40,
   "metadata": {},
   "outputs": [],
   "source": [
    "def crossValidationV2(alpha, tolerance, n_folds, dataset):\n",
    "    foldDimension = dataset.shape[0] // n_folds\n",
    "    finalTheta = None\n",
    "    bestRMSE = float('inf')\n",
    "    sum_r2_mean = 0\n",
    "    sum_rmse_mean = 0\n",
    "\n",
    "    for i in range(n_folds):\n",
    "        startFold = i * foldDimension\n",
    "        endFold = (i + 1) * foldDimension\n",
    "\n",
    "        training_set = dataset.drop(index=range(startFold, endFold)).reset_index(drop=True)\n",
    "        x_training = training_set.drop('price', axis=1).values\n",
    "        y_training = training_set['price'].values\n",
    "\n",
    "        test_set = dataset.loc[startFold:endFold-1].reset_index(drop=True)\n",
    "        x_test = test_set.drop('price', axis=1).values\n",
    "        y_test = test_set['price'].values\n",
    "\n",
    "        m = len(training_set)\n",
    "        theta = np.random.uniform(-np.max(y_training), np.max(y_training), size=x_training.shape[1])\n",
    "        thetaTrain = gradientDescent(alpha, tolerance, theta, x_training, y_training, m)\n",
    "\n",
    "        prediction = predictions(x_test, thetaTrain)\n",
    "        r2, rmse = modelEvaluation(prediction, y_test)\n",
    "\n",
    "        if rmse < bestRMSE:\n",
    "            bestRMSE = rmse\n",
    "            finalTheta = thetaTrain\n",
    "\n",
    "        sum_r2_mean += r2\n",
    "        sum_rmse_mean += rmse\n",
    "\n",
    "    avg_r2 = sum_r2_mean / n_folds\n",
    "    avg_rmse = sum_rmse_mean / n_folds\n",
    "\n",
    "    return finalTheta, avg_r2, avg_rmse\n"
   ]
  },
  {
   "cell_type": "markdown",
   "metadata": {},
   "source": [
    "### Test con cross validazione"
   ]
  },
  {
   "cell_type": "markdown",
   "metadata": {},
   "source": [
    "Carico il dataset"
   ]
  },
  {
   "cell_type": "code",
   "execution_count": 41,
   "metadata": {},
   "outputs": [],
   "source": [
    "dataset = pd.read_csv('cars_numeric.csv')\n",
    "\n",
    "# è meglio mischaire le righe del dataset\n",
    "dataset = dataset.sample(frac=1).reset_index(drop=True)\n",
    "\n",
    "# bisogna inserire la colonna di bias\n",
    "dataset.insert(0, 'bias', np.ones(dataset.shape[0]), True)"
   ]
  },
  {
   "cell_type": "code",
   "execution_count": 42,
   "metadata": {},
   "outputs": [
    {
     "name": "stdout",
     "output_type": "stream",
     "text": [
      "\n",
      "******* TEST CON CROSS-VALIDAZIONE *******\n",
      "########## MODELLO ##########\n",
      "\n",
      "LGND: price = Theta * feature\n",
      "\n",
      "price = \n",
      "\t13298.81777 * bias +\n",
      "\t154.43131 * symboling +\n",
      "\t-380.15557 * normalized-losses +\n",
      "\t-843.54969 * make +\n",
      "\t2472.37042 * fuel-type +\n",
      "\t702.82835 * aspiration +\n",
      "\t14.58775 * num-of-doors +\n",
      "\t-362.37214 * body-style +\n",
      "\t-821.51168 * drive-wheels +\n",
      "\t1452.81617 * engine-location +\n",
      "\t116.71354 * wheel-base +\n",
      "\t270.13285 * length +\n",
      "\t912.67238 * width +\n",
      "\t464.50814 * height +\n",
      "\t1700.37947 * curb-weight +\n",
      "\t263.70809 * engine-type +\n",
      "\t1325.8117 * num-of-cylinders +\n",
      "\t3890.26176 * engine-size +\n",
      "\t-892.43527 * fuel-system +\n",
      "\t-291.00226 * bore +\n",
      "\t-532.95798 * stroke +\n",
      "\t-1732.9457 * compression-ratio +\n",
      "\t81.26504 * horsepower +\n",
      "\t905.70914 * peak-rpm +\n",
      "\t-1315.72408 * city-mpg +\n",
      "\t1810.57834 * highway-mpg +\n",
      "\n",
      "########## RISULTATI VALUTAZIONE ##########\n",
      "\n",
      "R2 = 0.85818\n",
      "Root Mean Squared Error = 2811.16006\n"
     ]
    }
   ],
   "source": [
    "print('\\n******* TEST CON CROSS-VALIDAZIONE *******')\n",
    "alpha = 0.01\n",
    "tolerance = 0.00000001\n",
    "(finalTheta, r2, rmse) = crossValidation(alpha, tolerance, 10, dataset)\n",
    "\n",
    "printLinRegFunction(theta=finalTheta, data=dataset)\n",
    "printEvaluationResults(r2=r2, rmse=rmse)"
   ]
  },
  {
   "cell_type": "code",
   "execution_count": 43,
   "metadata": {},
   "outputs": [
    {
     "name": "stdout",
     "output_type": "stream",
     "text": [
      "\n",
      "******* TEST CON CROSS-VALIDAZIONE V2*******\n",
      "########## MODELLO ##########\n",
      "\n",
      "LGND: price = Theta * feature\n",
      "\n",
      "price = \n",
      "\t13298.81835 * bias +\n",
      "\t154.4362 * symboling +\n",
      "\t-380.1675 * normalized-losses +\n",
      "\t-843.54171 * make +\n",
      "\t2472.71933 * fuel-type +\n",
      "\t702.8015 * aspiration +\n",
      "\t14.5873 * num-of-doors +\n",
      "\t-362.36749 * body-style +\n",
      "\t-821.51951 * drive-wheels +\n",
      "\t1452.81424 * engine-location +\n",
      "\t116.70325 * wheel-base +\n",
      "\t270.1441 * length +\n",
      "\t912.68054 * width +\n",
      "\t464.49736 * height +\n",
      "\t1700.37258 * curb-weight +\n",
      "\t263.70374 * engine-type +\n",
      "\t1325.81521 * num-of-cylinders +\n",
      "\t3890.25175 * engine-size +\n",
      "\t-892.45455 * fuel-system +\n",
      "\t-291.00935 * bore +\n",
      "\t-532.96859 * stroke +\n",
      "\t-1733.26609 * compression-ratio +\n",
      "\t81.28102 * horsepower +\n",
      "\t905.72444 * peak-rpm +\n",
      "\t-1315.69506 * city-mpg +\n",
      "\t1810.57101 * highway-mpg +\n",
      "\n",
      "########## RISULTATI VALUTAZIONE ##########\n",
      "\n",
      "R2 = 0.85818\n",
      "Root Mean Squared Error = 2811.16526\n"
     ]
    }
   ],
   "source": [
    "print('\\n******* TEST CON CROSS-VALIDAZIONE V2*******')\n",
    "alpha = 0.01\n",
    "tolerance = 0.00000001\n",
    "(finalTheta, r2, rmse) = crossValidationV2(alpha, tolerance, 10, dataset)\n",
    "\n",
    "printLinRegFunction(theta=finalTheta, data=dataset)\n",
    "printEvaluationResults(r2=r2, rmse=rmse)"
   ]
  }
 ],
 "metadata": {
  "kernelspec": {
   "display_name": "Python 3",
   "language": "python",
   "name": "python3"
  },
  "language_info": {
   "codemirror_mode": {
    "name": "ipython",
    "version": 3
   },
   "file_extension": ".py",
   "mimetype": "text/x-python",
   "name": "python",
   "nbconvert_exporter": "python",
   "pygments_lexer": "ipython3",
   "version": "3.10.9"
  },
  "orig_nbformat": 4
 },
 "nbformat": 4,
 "nbformat_minor": 2
}
