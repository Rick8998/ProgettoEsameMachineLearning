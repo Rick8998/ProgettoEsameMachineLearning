{
 "cells": [
  {
   "cell_type": "code",
   "execution_count": 1,
   "metadata": {},
   "outputs": [],
   "source": [
    "import numpy as np\n",
    "import pandas as pd\n",
    "import matplotlib.pyplot as plt\n",
    "from sklearn import linear_model\n",
    "from sklearn.linear_model import LinearRegression\n",
    "from sklearn.metrics import mean_squared_error, r2_score, explained_variance_score\n",
    "from sklearn.model_selection import train_test_split #for train/test split"
   ]
  },
  {
   "cell_type": "markdown",
   "metadata": {},
   "source": [
    "Funzione per la discesa del gradiente\n",
    "- alpha => learning rate\n",
    "- tolerance => ciò che ci permette di fermarci quando non ci sono più miglioramenti significativi nella funzione di costo\n",
    "- theta => parametri da apprendere\n",
    "- x => features\n",
    "- y => target\n",
    "- m => numero di esempi"
   ]
  },
  {
   "cell_type": "code",
   "execution_count": null,
   "metadata": {},
   "outputs": [],
   "source": [
    "def gradientDescent(alpha, tolerance, theta, x, y, m):\n",
    "    step=1\n",
    "    previousCost = 1000000000000000\n",
    "    while True:\n",
    "        h = np.dot(x, theta) #ipotesi, ovvero i valori predetti\n",
    "        #Discesa del gradiente\n",
    "        theta = theta - ((alpha * (1/m)) * np.dot((h - y).T, x).T)\n",
    "        j_cost = (np.sum((h - y)**2))/(2*m)\n",
    "        diff = previousCost - j_cost\n",
    "        if diff < tolerance:\n",
    "            break\n",
    "        else:\n",
    "            #aggiornamento costo & incremento step\n",
    "            previousCost = j_cost\n",
    "            step=step+1\n",
    "\n",
    "    return theta"
   ]
  },
  {
   "cell_type": "markdown",
   "metadata": {},
   "source": [
    "Funzione per calcolare le predizioni\n",
    "- x_test => features del test set\n",
    "- theta => parametri derivanti dalla fase di training"
   ]
  },
  {
   "cell_type": "code",
   "execution_count": null,
   "metadata": {},
   "outputs": [],
   "source": [
    "def predictions(x_test, theta):\n",
    "    pred = np.dot(x_test, theta)\n",
    "    return pred"
   ]
  },
  {
   "cell_type": "markdown",
   "metadata": {},
   "source": [
    "Funzione per la valutazione\n",
    "- prediction => predizioni del modello\n",
    "- target => target del dataset"
   ]
  },
  {
   "cell_type": "code",
   "execution_count": null,
   "metadata": {},
   "outputs": [],
   "source": [
    "def evaluation(prediction, target):\n",
    "    meanTarget = np.mean(target)\n",
    "\n",
    "    #R2\n",
    "    sse = np.sum((prediction-target)**2)\n",
    "    sst = np.sum((target - meanTarget)**2)\n",
    "    r2 = 1- (sse/sst)\n",
    "\n",
    "    #RMSE\n",
    "    rmse = np.sqrt((np.sum((prediction - target)**2)) / len(prediction))\n",
    "\n",
    "    return (r2, rmse)"
   ]
  },
  {
   "cell_type": "markdown",
   "metadata": {},
   "source": [
    "Funzione per cross validazione"
   ]
  },
  {
   "cell_type": "markdown",
   "metadata": {},
   "source": [
    "Funzioni di stampa"
   ]
  }
 ],
 "metadata": {
  "kernelspec": {
   "display_name": "Python 3",
   "language": "python",
   "name": "python3"
  },
  "language_info": {
   "codemirror_mode": {
    "name": "ipython",
    "version": 3
   },
   "file_extension": ".py",
   "mimetype": "text/x-python",
   "name": "python",
   "nbconvert_exporter": "python",
   "pygments_lexer": "ipython3",
   "version": "3.10.9"
  },
  "orig_nbformat": 4
 },
 "nbformat": 4,
 "nbformat_minor": 2
}
