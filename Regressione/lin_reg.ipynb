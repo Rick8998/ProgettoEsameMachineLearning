{
 "cells": [
  {
   "cell_type": "code",
   "execution_count": 4,
   "metadata": {},
   "outputs": [],
   "source": [
    "import numpy as np\n",
    "import pandas as pd\n",
    "import matplotlib.pyplot as plt\n",
    "from sklearn import linear_model\n",
    "from sklearn.linear_model import LinearRegression\n",
    "from sklearn.metrics import r2_score, mean_absolute_error, mean_squared_error\n",
    "from sklearn.model_selection import train_test_split, cross_val_score"
   ]
  },
  {
   "cell_type": "markdown",
   "metadata": {},
   "source": [
    "Funzione per la discesa del gradiente\n",
    "- alpha => learning rate\n",
    "- tolerance => ciò che ci permette di fermarci quando non ci sono più miglioramenti significativi nella funzione di costo\n",
    "- theta => parametri da apprendere\n",
    "- x => features\n",
    "- y => target\n",
    "- m => numero di esempi"
   ]
  },
  {
   "cell_type": "code",
   "execution_count": 5,
   "metadata": {},
   "outputs": [],
   "source": [
    "def gradientDescent(alpha, tolerance, theta, x, y, m):\n",
    "    step=1\n",
    "    previousCost = 1000000000000000\n",
    "    while True:\n",
    "        h = np.dot(x, theta) #ipotesi, ovvero i valori predetti\n",
    "        #Discesa del gradiente\n",
    "        theta = theta - ((alpha * (1/m)) * np.dot((h - y).T, x).T)\n",
    "        j_cost = (np.sum((h - y)**2))/(2*m)\n",
    "        diff = previousCost - j_cost\n",
    "        if diff < tolerance:\n",
    "            break\n",
    "        else:\n",
    "            #aggiornamento costo & incremento step\n",
    "            previousCost = j_cost\n",
    "            step=step+1\n",
    "\n",
    "    return theta"
   ]
  },
  {
   "cell_type": "markdown",
   "metadata": {},
   "source": [
    "Funzione per calcolare le predizioni\n",
    "- x_test => features del test set\n",
    "- theta => parametri derivanti dalla fase di training"
   ]
  },
  {
   "cell_type": "code",
   "execution_count": 6,
   "metadata": {},
   "outputs": [],
   "source": [
    "def predictions(x_test, theta):\n",
    "    pred = np.dot(x_test, theta)\n",
    "    return pred"
   ]
  },
  {
   "cell_type": "markdown",
   "metadata": {},
   "source": [
    "Funzione per la valutazione\n",
    "- prediction => predizioni del modello\n",
    "- target => target del dataset"
   ]
  },
  {
   "cell_type": "code",
   "execution_count": 7,
   "metadata": {},
   "outputs": [],
   "source": [
    "def modelEvaluation(prediction, target):\n",
    "    meanTarget = np.mean(target)\n",
    "\n",
    "    #R2\n",
    "    sse = np.sum((prediction-target)**2)\n",
    "    sst = np.sum((target - meanTarget)**2)\n",
    "    r2 = 1- (sse/sst)\n",
    "\n",
    "    #Mean absolute error\n",
    "    mae = np.mean(np.abs(prediction - target))\n",
    "\n",
    "    #RMSE\n",
    "    rmse = np.sqrt((np.sum((prediction - target)**2)) / len(prediction))\n",
    "\n",
    "    return (r2, rmse)"
   ]
  },
  {
   "cell_type": "markdown",
   "metadata": {},
   "source": [
    "Funzioni di stampa dei risultati"
   ]
  },
  {
   "cell_type": "code",
   "execution_count": 8,
   "metadata": {},
   "outputs": [],
   "source": [
    "def printLinRegFunction(theta, data):\n",
    "    print(\"########## MODELLO ##########\")\n",
    "    print('\\n' + data.columns.values[len(theta)] + \" = \")\n",
    "    for i in range(len(theta)):\n",
    "        print('\\t' + str(round(theta[i], 5)) + ' * ' + data.columns.values[i] + ' +')\n",
    "\n",
    "\n",
    "def printEvaluationResults(r2, rmse):\n",
    "    print('\\n########## RISULTATI VALUTAZIONE ##########')\n",
    "    print('\\nR2 = ' + str(round(r2, 5)))\n",
    "    print('Root Mean Squared Error = ' + str(round(rmse, 5)))"
   ]
  },
  {
   "cell_type": "markdown",
   "metadata": {},
   "source": [
    "### Carico il dataset"
   ]
  },
  {
   "cell_type": "code",
   "execution_count": 9,
   "metadata": {},
   "outputs": [],
   "source": [
    "dataset = pd.read_csv('cars_numeric.csv')\n",
    "\n",
    "# è meglio mischaire le righe del dataset\n",
    "dataset = dataset.sample(frac=1).reset_index(drop=True)\n",
    "\n",
    "# bisogna inserire la colonna di bias\n",
    "dataset.insert(0, 'bias', np.ones(dataset.shape[0]), True)"
   ]
  },
  {
   "cell_type": "markdown",
   "metadata": {},
   "source": [
    "### Valutazione tramite split 70/30"
   ]
  },
  {
   "cell_type": "code",
   "execution_count": 10,
   "metadata": {},
   "outputs": [],
   "source": [
    "training_set = dataset.head(round(len(dataset)*(70/100)))\n",
    "test_set = dataset.tail(len(dataset) - len(training_set)).reset_index(drop=True)\n",
    "\n",
    "#fase di fit\n",
    "alpha = 0.1\n",
    "tolerance = 0.000001\n",
    "x = training_set.drop('price', axis = 1).values\n",
    "y = training_set['price'].values\n",
    "m = len(training_set)\n",
    "\n",
    "#inizializzazione dei theta\n",
    "# genero un array di theta casuali inizializzati in base ai valori massimi e minimi dei dati \n",
    "# target (y) e in base al numero di features nella matrice delle features (x)\n",
    "theta = np.random.uniform(-(np.max(y)), np.max(y), size=x.shape[1])\n",
    "\n",
    "finalTheta = gradientDescent(alpha=alpha, tolerance=tolerance, theta=theta, x=x, y=y, m=m)\n",
    "\n",
    "\n",
    "#Valutazione\n",
    "x_test = test_set.drop('price', axis = 1).values\n",
    "predizione = predictions(x_test, finalTheta)\n",
    "y_dataset = test_set['price'].values\n",
    "\n",
    "r2, rmse = modelEvaluation(prediction=predizione, target=y_dataset)"
   ]
  },
  {
   "cell_type": "markdown",
   "metadata": {},
   "source": [
    "### Stampe & grafici"
   ]
  },
  {
   "cell_type": "code",
   "execution_count": 11,
   "metadata": {},
   "outputs": [
    {
     "name": "stdout",
     "output_type": "stream",
     "text": [
      "VALUTAZIONE DEL MODELLO TRAMITE SPLIT 70/30\n",
      "########## MODELLO ##########\n",
      "\n",
      "price = \n",
      "\t13111.95989 * bias +\n",
      "\t-59.26408 * symboling +\n",
      "\t-254.9988 * normalized-losses +\n",
      "\t-1089.75987 * make +\n",
      "\t-1759.72812 * fuel-type +\n",
      "\t1152.14331 * aspiration +\n",
      "\t346.395 * num-of-doors +\n",
      "\t-347.23403 * body-style +\n",
      "\t-470.59522 * drive-wheels +\n",
      "\t2038.56699 * engine-location +\n",
      "\t243.27637 * wheel-base +\n",
      "\t342.00079 * length +\n",
      "\t204.31659 * width +\n",
      "\t314.30739 * height +\n",
      "\t2408.97395 * curb-weight +\n",
      "\t-435.25289 * engine-type +\n",
      "\t1703.24481 * num-of-cylinders +\n",
      "\t2678.01353 * engine-size +\n",
      "\t-615.24068 * fuel-system +\n",
      "\t-32.20501 * bore +\n",
      "\t-645.2036 * stroke +\n",
      "\t1989.38056 * compression-ratio +\n",
      "\t37.80741 * horsepower +\n",
      "\t276.72466 * peak-rpm +\n",
      "\t-993.91701 * city-mpg +\n",
      "\t1272.68403 * highway-mpg +\n",
      "\n",
      "########## RISULTATI VALUTAZIONE ##########\n",
      "\n",
      "R2 = 0.84003\n",
      "Root Mean Squared Error = 3619.31803\n"
     ]
    }
   ],
   "source": [
    "print(\"VALUTAZIONE DEL MODELLO TRAMITE SPLIT 70/30\")\n",
    "printLinRegFunction(theta=finalTheta, data=dataset)\n",
    "printEvaluationResults(r2=r2, rmse=rmse)"
   ]
  },
  {
   "cell_type": "code",
   "execution_count": 12,
   "metadata": {},
   "outputs": [
    {
     "data": {
      "image/png": "[encoded data removed]",
      "text/plain": [
       "<Figure size 720x720 with 1 Axes>"
      ]
     },
     "metadata": {
      "needs_background": "light"
     },
     "output_type": "display_data"
    }
   ],
   "source": [
    "plt.figure(figsize=(10,10))\n",
    "plt.scatter(x = y_dataset, y = predizione, c='red') \n",
    "plt.title(\"TEST RESULTS\\nSPLIT 70% TRAIN - 30% TEST\", fontsize=20)\n",
    "plt.xlabel(\"Prezzo effettivo\", fontsize=20)\n",
    "plt.ylabel(\"Prezzo predetto\", fontsize=20)\n",
    "plt.show()"
   ]
  },
  {
   "cell_type": "markdown",
   "metadata": {},
   "source": [
    "### Cross validazione"
   ]
  },
  {
   "cell_type": "markdown",
   "metadata": {},
   "source": [
    "Funzione per la cross validazione"
   ]
  },
  {
   "cell_type": "code",
   "execution_count": 13,
   "metadata": {},
   "outputs": [],
   "source": [
    "def crossValidation(alpha, tolerance, n_folds, dataset):\n",
    "    foldDimension = dataset.shape[0] // n_folds\n",
    "    finalTheta = 0\n",
    "    bestRMSE = 0\n",
    "    somma_r2 = 0\n",
    "    somma_rmse = 0\n",
    "\n",
    "    for i in range(n_folds):\n",
    "        startFold = i * foldDimension\n",
    "        endFold = (i+1) * foldDimension\n",
    "\n",
    "        # per il training set \"tolgo\" i fold fra startFold e endFold\n",
    "        # training_set è un nuovo dataframe con le righe indicate dall'intervallo [startFold : endFold] eliminate e con un nuovo indice sequenziale\n",
    "        training_set = dataset.drop(dataset.index[startFold : endFold]).reset_index(drop = True)\n",
    "        x_training = training_set.drop('price', axis = 1).values\n",
    "        y_training = training_set['price'].values\n",
    "\n",
    "        # uso i fold tolti per il test set\n",
    "        test_set = dataset[startFold : endFold].reset_index(drop = True)\n",
    "        x_test = test_set.drop('price', axis = 1).values\n",
    "        y_test = test_set['price'].values\n",
    "\n",
    "        m = len(training_set)\n",
    "\n",
    "        # genero un array di theta casuali inizializzati in base ai valori massimi e minimi dei dati \n",
    "        # target (y_training) e in base al numero di features nella matrice delle features (x_training)\n",
    "        theta = np.random.uniform(-(np.max(y_training)), np.max(y_training), size=x_training.shape[1])\n",
    "        thetaTrain = gradientDescent(alpha, tolerance, theta, x_training, y_training, m)\n",
    "\n",
    "        prediction = predictions(x_test=x_test, theta=thetaTrain)\n",
    "\n",
    "        r2, rmse = modelEvaluation(prediction=prediction, target=y_test)\n",
    "\n",
    "        if i == 0:\n",
    "            finalTheta = thetaTrain\n",
    "            bestRMSE = rmse\n",
    "        elif rmse < bestRMSE:\n",
    "            finalTheta = thetaTrain\n",
    "            bestRMSE = rmse\n",
    "\n",
    "        somma_r2 = somma_r2 + r2\n",
    "        somma_rmse = somma_rmse + rmse\n",
    "\n",
    "    # dividendo le somme per nfolds si ottiene una media delle misure di valutazione su tutti i fold, \n",
    "    # rende le stime più rappresentative delle prestazioni del modello sull'intero dataset\n",
    "    sum_r2_mean = somma_r2/n_folds\n",
    "    sum_rmse_mean = somma_rmse/n_folds\n",
    "\n",
    "    return finalTheta, sum_r2_mean, sum_rmse_mean"
   ]
  },
  {
   "cell_type": "markdown",
   "metadata": {},
   "source": [
    "altra versione della corss validazione (da testare)"
   ]
  },
  {
   "cell_type": "code",
   "execution_count": 14,
   "metadata": {},
   "outputs": [],
   "source": [
    "def crossValidationV2(alpha, tolerance, n_folds, dataset):\n",
    "    foldDimension = dataset.shape[0] // n_folds\n",
    "    finalTheta = None\n",
    "    bestRMSE = float('inf')\n",
    "    sum_r2_mean = 0\n",
    "    sum_rmse_mean = 0\n",
    "\n",
    "    for i in range(n_folds):\n",
    "        startFold = i * foldDimension\n",
    "        endFold = (i + 1) * foldDimension\n",
    "\n",
    "        training_set = dataset.drop(index=range(startFold, endFold)).reset_index(drop=True)\n",
    "        x_training = training_set.drop('price', axis=1).values\n",
    "        y_training = training_set['price'].values\n",
    "\n",
    "        test_set = dataset.loc[startFold:endFold-1].reset_index(drop=True)\n",
    "        x_test = test_set.drop('price', axis=1).values\n",
    "        y_test = test_set['price'].values\n",
    "\n",
    "        m = len(training_set)\n",
    "        theta = np.random.uniform(-np.max(y_training), np.max(y_training), size=x_training.shape[1])\n",
    "        thetaTrain = gradientDescent(alpha, tolerance, theta, x_training, y_training, m)\n",
    "\n",
    "        prediction = predictions(x_test, thetaTrain)\n",
    "        r2, rmse = modelEvaluation(prediction, y_test)\n",
    "\n",
    "        if rmse < bestRMSE:\n",
    "            bestRMSE = rmse\n",
    "            finalTheta = thetaTrain\n",
    "\n",
    "        sum_r2_mean += r2\n",
    "        sum_rmse_mean += rmse\n",
    "\n",
    "    avg_r2 = sum_r2_mean / n_folds\n",
    "    avg_rmse = sum_rmse_mean / n_folds\n",
    "\n",
    "    return finalTheta, avg_r2, avg_rmse\n"
   ]
  },
  {
   "cell_type": "markdown",
   "metadata": {},
   "source": [
    "### Test con cross validazione"
   ]
  },
  {
   "cell_type": "markdown",
   "metadata": {},
   "source": [
    "Carico il dataset"
   ]
  },
  {
   "cell_type": "code",
   "execution_count": 15,
   "metadata": {},
   "outputs": [],
   "source": [
    "dataset = pd.read_csv('cars_numeric.csv')\n",
    "\n",
    "# è meglio mischaire le righe del dataset\n",
    "dataset = dataset.sample(frac=1).reset_index(drop=True)\n",
    "\n",
    "# bisogna inserire la colonna di bias\n",
    "dataset.insert(0, 'bias', np.ones(dataset.shape[0]), True)"
   ]
  },
  {
   "cell_type": "code",
   "execution_count": 16,
   "metadata": {},
   "outputs": [
    {
     "name": "stdout",
     "output_type": "stream",
     "text": [
      "\n",
      "******* TEST CON CROSS-VALIDAZIONE *******\n",
      "########## MODELLO ##########\n",
      "\n",
      "price = \n",
      "\t13257.21583 * bias +\n",
      "\t115.43168 * symboling +\n",
      "\t-316.96609 * normalized-losses +\n",
      "\t-1028.10941 * make +\n",
      "\t1265.17979 * fuel-type +\n",
      "\t778.39055 * aspiration +\n",
      "\t-39.0713 * num-of-doors +\n",
      "\t-339.63623 * body-style +\n",
      "\t-615.05328 * drive-wheels +\n",
      "\t1607.91802 * engine-location +\n",
      "\t400.36655 * wheel-base +\n",
      "\t129.00766 * length +\n",
      "\t909.25436 * width +\n",
      "\t447.86498 * height +\n",
      "\t1563.21603 * curb-weight +\n",
      "\t-2.84872 * engine-type +\n",
      "\t1367.33419 * num-of-cylinders +\n",
      "\t3748.08583 * engine-size +\n",
      "\t-696.50809 * fuel-system +\n",
      "\t2.76156 * bore +\n",
      "\t-738.04585 * stroke +\n",
      "\t-620.91526 * compression-ratio +\n",
      "\t1.34858 * horsepower +\n",
      "\t748.32158 * peak-rpm +\n",
      "\t-1489.342 * city-mpg +\n",
      "\t1877.58312 * highway-mpg +\n",
      "\n",
      "########## RISULTATI VALUTAZIONE ##########\n",
      "\n",
      "R2 = 0.83889\n",
      "Root Mean Squared Error = 2832.44931\n"
     ]
    }
   ],
   "source": [
    "print('\\n******* TEST CON CROSS-VALIDAZIONE *******')\n",
    "alpha = 0.01\n",
    "tolerance = 0.00000001\n",
    "(finalTheta, r2, rmse) = crossValidation(alpha, tolerance, 10, dataset)\n",
    "\n",
    "printLinRegFunction(theta=finalTheta, data=dataset)\n",
    "printEvaluationResults(r2=r2, rmse=rmse)"
   ]
  }
 ],
 "metadata": {
  "kernelspec": {
   "display_name": "Python 3",
   "language": "python",
   "name": "python3"
  },
  "language_info": {
   "codemirror_mode": {
    "name": "ipython",
    "version": 3
   },
   "file_extension": ".py",
   "mimetype": "text/x-python",
   "name": "python",
   "nbconvert_exporter": "python",
   "pygments_lexer": "ipython3",
   "version": "3.10.9"
  },
  "orig_nbformat": 4
 },
 "nbformat": 4,
 "nbformat_minor": 2
}
