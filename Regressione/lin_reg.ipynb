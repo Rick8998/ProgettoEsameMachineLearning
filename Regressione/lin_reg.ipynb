{
 "cells": [
  {
   "cell_type": "code",
   "execution_count": 133,
   "metadata": {},
   "outputs": [],
   "source": [
    "import numpy as np\n",
    "import pandas as pd\n",
    "import matplotlib.pyplot as plt"
   ]
  },
  {
   "cell_type": "markdown",
   "metadata": {},
   "source": [
    "Funzione per la discesa del gradiente\n",
    "- alpha => learning rate\n",
    "- tolerance => ciò che ci permette di fermarci quando non ci sono più miglioramenti significativi nella funzione di costo\n",
    "- theta => parametri da apprendere\n",
    "- x => features\n",
    "- y => target\n",
    "- m => numero di esempi"
   ]
  },
  {
   "cell_type": "code",
   "execution_count": 134,
   "metadata": {},
   "outputs": [],
   "source": [
    "def gradientDescent(alpha, tolerance, theta, x, y, m):\n",
    "    \n",
    "    previousCost = 1000000000000000\n",
    "    while True:\n",
    "        h = np.dot(x, theta) # ipotesi, ovvero i valori predetti\n",
    "        #Discesa del gradiente\n",
    "        theta = theta - ((alpha * (1/m)) * np.dot((h - y).T, x).T)\n",
    "        j_cost = (np.sum((h - y)**2))/(2*m)\n",
    "        diff = previousCost - j_cost\n",
    "        if diff < tolerance:\n",
    "            # se il cambiamento nei theta è stato minimale l'algoritmo si ferma\n",
    "            break\n",
    "        else:\n",
    "            # aggiornamento costo\n",
    "            previousCost = j_cost\n",
    "\n",
    "    return theta"
   ]
  },
  {
   "cell_type": "markdown",
   "metadata": {},
   "source": [
    "Funzione per calcolare le predizioni\n",
    "- x_test => features del test set\n",
    "- theta => parametri derivanti dalla fase di training\n",
    "\n",
    "Esegue una combinazione lineare tra la matrice delle features x_test e il vettore dei pesi theta"
   ]
  },
  {
   "cell_type": "code",
   "execution_count": 135,
   "metadata": {},
   "outputs": [],
   "source": [
    "def predictions(x_test, theta):\n",
    "    pred = np.dot(x_test, theta)\n",
    "    return pred"
   ]
  },
  {
   "cell_type": "markdown",
   "metadata": {},
   "source": [
    "Funzione per la valutazione\n",
    "- prediction => predizioni del modello\n",
    "- target => target del dataset"
   ]
  },
  {
   "cell_type": "code",
   "execution_count": 136,
   "metadata": {},
   "outputs": [],
   "source": [
    "def modelEvaluation(prediction, target):\n",
    "    meanTarget = np.mean(target)\n",
    "\n",
    "    #R2\n",
    "    sse = np.sum((prediction-target)**2)\n",
    "    sst = np.sum((target - meanTarget)**2)\n",
    "    r2 = 1- (sse/sst)\n",
    "\n",
    "    #Mean absolute error\n",
    "    mae = np.mean(np.abs(prediction - target))\n",
    "\n",
    "    #RMSE\n",
    "    rmse = np.sqrt((np.sum((prediction - target)**2)) / len(prediction))\n",
    "\n",
    "    return (r2, mae, rmse)"
   ]
  },
  {
   "cell_type": "markdown",
   "metadata": {},
   "source": [
    "Funzioni di stampa dei risultati"
   ]
  },
  {
   "cell_type": "code",
   "execution_count": 137,
   "metadata": {},
   "outputs": [],
   "source": [
    "def printLinRegFunction(theta, data):\n",
    "    print(\"########## MODELLO ##########\")\n",
    "    print('\\nLGND: ' + data.columns.values[len(theta)] + \" = Theta * feature\")\n",
    "    print('\\n' + data.columns.values[len(theta)] + \" = \")\n",
    "    for i in range(len(theta)):\n",
    "        print('\\t' + str(round(theta[i], 5)) + ' * ' + data.columns.values[i] + ' +')\n",
    "\n",
    "\n",
    "def printEvaluationResults(r2, mae, rmse):\n",
    "    print('\\n########## RISULTATI VALUTAZIONE ##########')\n",
    "    print('\\nR2 = ' + str(round(r2, 5)))\n",
    "    print(\"Mean absolute error = \" +str(round(mae, 5)))\n",
    "    print('Root Mean Squared Error = ' + str(round(rmse, 5)))"
   ]
  },
  {
   "cell_type": "markdown",
   "metadata": {},
   "source": [
    "### Carico il dataset"
   ]
  },
  {
   "cell_type": "code",
   "execution_count": 138,
   "metadata": {},
   "outputs": [],
   "source": [
    "dataset = pd.read_csv('cars_numeric.csv')\n",
    "\n",
    "# è meglio mischaire le righe del dataset\n",
    "dataset = dataset.sample(frac=1).reset_index(drop=True)\n",
    "\n",
    "# bisogna inserire la colonna di bias\n",
    "dataset.insert(0, 'bias', np.ones(dataset.shape[0]), True)"
   ]
  },
  {
   "cell_type": "markdown",
   "metadata": {},
   "source": [
    "### Valutazione tramite split 70/30"
   ]
  },
  {
   "cell_type": "code",
   "execution_count": 139,
   "metadata": {},
   "outputs": [],
   "source": [
    "training_set = dataset.head(round(len(dataset)*(70/100)))\n",
    "test_set = dataset.tail(len(dataset) - len(training_set)).reset_index(drop=True)\n",
    "\n",
    "#fase di fit\n",
    "alpha = 0.1\n",
    "tolerance = 0.000001\n",
    "x = training_set.drop('price', axis = 1).values\n",
    "y = training_set['price'].values\n",
    "m = len(training_set)\n",
    "\n",
    "#inizializzazione dei theta\n",
    "# genero un array di theta casuali inizializzati in base ai valori massimi e minimi dei dati \n",
    "# target (y) e in base al numero di features nella matrice delle features (x)\n",
    "theta = np.random.uniform(-(np.max(y)), np.max(y), size=x.shape[1])\n",
    "\n",
    "finalTheta = gradientDescent(alpha=alpha, tolerance=tolerance, theta=theta, x=x, y=y, m=m)\n",
    "\n",
    "\n",
    "#Valutazione\n",
    "x_test = test_set.drop('price', axis = 1).values\n",
    "predizione = predictions(x_test, finalTheta)\n",
    "y_dataset = test_set['price'].values\n",
    "\n",
    "r2, mae, rmse = modelEvaluation(prediction=predizione, target=y_dataset)"
   ]
  },
  {
   "cell_type": "markdown",
   "metadata": {},
   "source": [
    "### Stampe & grafici"
   ]
  },
  {
   "cell_type": "code",
   "execution_count": 140,
   "metadata": {},
   "outputs": [
    {
     "name": "stdout",
     "output_type": "stream",
     "text": [
      "VALUTAZIONE DEL MODELLO TRAMITE SPLIT 70/30\n",
      "########## MODELLO ##########\n",
      "\n",
      "LGND: price = Theta * feature\n",
      "\n",
      "price = \n",
      "\t13394.95214 * bias +\n",
      "\t88.38132 * symboling +\n",
      "\t-226.41427 * normalized-losses +\n",
      "\t-971.12837 * make +\n",
      "\t-2815.86861 * fuel-type +\n",
      "\t907.80329 * aspiration +\n",
      "\t361.29307 * num-of-doors +\n",
      "\t-392.04385 * body-style +\n",
      "\t-190.91468 * drive-wheels +\n",
      "\t1523.97461 * engine-location +\n",
      "\t817.19553 * wheel-base +\n",
      "\t-507.58954 * length +\n",
      "\t594.7819 * width +\n",
      "\t459.08793 * height +\n",
      "\t1449.7789 * curb-weight +\n",
      "\t-254.20866 * engine-type +\n",
      "\t1424.1512 * num-of-cylinders +\n",
      "\t4614.7462 * engine-size +\n",
      "\t-261.19594 * fuel-system +\n",
      "\t303.9117 * bore +\n",
      "\t-799.55702 * stroke +\n",
      "\t3216.12648 * compression-ratio +\n",
      "\t262.64123 * horsepower +\n",
      "\t804.97338 * peak-rpm +\n",
      "\t-1616.27086 * city-mpg +\n",
      "\t1891.74216 * highway-mpg +\n",
      "\n",
      "########## RISULTATI VALUTAZIONE ##########\n",
      "\n",
      "R2 = 0.84434\n",
      "Mean absolute error = 2215.35751\n",
      "Root Mean Squared Error = 3424.78571\n"
     ]
    }
   ],
   "source": [
    "print(\"VALUTAZIONE DEL MODELLO TRAMITE SPLIT 70/30\")\n",
    "printLinRegFunction(theta=finalTheta, data=dataset)\n",
    "printEvaluationResults(r2=r2, mae=mae, rmse=rmse)"
   ]
  },
  {
   "cell_type": "code",
   "execution_count": 141,
   "metadata": {},
   "outputs": [
    {
     "data": {
      "image/png": "[encoded data removed]",
      "text/plain": [
       "<Figure size 720x720 with 1 Axes>"
      ]
     },
     "metadata": {
      "needs_background": "light"
     },
     "output_type": "display_data"
    }
   ],
   "source": [
    "plt.figure(figsize=(10,10))\n",
    "plt.scatter(x = y_dataset, y = predizione, c='red') \n",
    "plt.title(\"TEST RESULTS\\nSPLIT 70% TRAIN - 30% TEST\", fontsize=20)\n",
    "plt.xlabel(\"Prezzo effettivo\", fontsize=20)\n",
    "plt.ylabel(\"Prezzo predetto\", fontsize=20)\n",
    "plt.show()"
   ]
  },
  {
   "cell_type": "markdown",
   "metadata": {},
   "source": [
    "### Cross validazione"
   ]
  },
  {
   "cell_type": "markdown",
   "metadata": {},
   "source": [
    "Funzione per la cross validazione"
   ]
  },
  {
   "cell_type": "code",
   "execution_count": 142,
   "metadata": {},
   "outputs": [],
   "source": [
    "def crossValidation(alpha, tolerance, n_folds, dataset):\n",
    "    foldDimension = dataset.shape[0] // n_folds\n",
    "    finalTheta = 0\n",
    "    bestRMSE = 0\n",
    "    somma_r2 = 0\n",
    "    somma_rmse = 0\n",
    "    somma_mae= 0\n",
    "\n",
    "    for i in range(n_folds):\n",
    "        startFold = i * foldDimension\n",
    "        endFold = (i+1) * foldDimension\n",
    "\n",
    "        # per il training set \"tolgo\" i fold fra startFold e endFold\n",
    "        # training_set è un nuovo dataframe con le righe indicate dall'intervallo [startFold : endFold] eliminate e con un nuovo indice sequenziale\n",
    "        training_set = dataset.drop(dataset.index[startFold : endFold]).reset_index(drop = True)\n",
    "        x_training = training_set.drop('price', axis = 1).values\n",
    "        y_training = training_set['price'].values\n",
    "\n",
    "        # uso i fold tolti per il test set\n",
    "        test_set = dataset[startFold : endFold].reset_index(drop = True)\n",
    "        x_test = test_set.drop('price', axis = 1).values\n",
    "        y_test = test_set['price'].values\n",
    "\n",
    "        m = len(training_set)\n",
    "\n",
    "        # genero un array di theta casuali inizializzati in base ai valori massimi e minimi dei dati \n",
    "        # target (y_training) e in base al numero di features nella matrice delle features (x_training)\n",
    "        theta = np.random.uniform(-(np.max(y_training)), np.max(y_training), size=x_training.shape[1])\n",
    "        thetaTrain = gradientDescent(alpha, tolerance, theta, x_training, y_training, m)\n",
    "\n",
    "        prediction = predictions(x_test=x_test, theta=thetaTrain)\n",
    "\n",
    "        r2, mae, rmse = modelEvaluation(prediction=prediction, target=y_test)\n",
    "\n",
    "        if i == 0:\n",
    "            finalTheta = thetaTrain\n",
    "            bestRMSE = rmse\n",
    "        elif rmse < bestRMSE:\n",
    "            finalTheta = thetaTrain\n",
    "            bestRMSE = rmse\n",
    "\n",
    "        somma_mae = somma_mae + mae\n",
    "        somma_r2 = somma_r2 + r2\n",
    "        somma_rmse = somma_rmse + rmse\n",
    "\n",
    "    # dividendo le somme per nfolds si ottiene una media delle misure di valutazione su tutti i fold, \n",
    "    # rende le stime più rappresentative delle prestazioni del modello sull'intero dataset\n",
    "    sum_r2_mean = somma_r2/n_folds\n",
    "    sum_rmse_mean = somma_rmse/n_folds\n",
    "    sum_mae_mean = somma_mae/n_folds\n",
    "\n",
    "    return finalTheta, sum_r2_mean, sum_mae_mean, sum_rmse_mean"
   ]
  },
  {
   "cell_type": "markdown",
   "metadata": {},
   "source": [
    "altra versione della corss validazione (da testare)"
   ]
  },
  {
   "cell_type": "code",
   "execution_count": 148,
   "metadata": {},
   "outputs": [],
   "source": [
    "def crossValidationV2(alpha, tolerance, n_folds, dataset):\n",
    "    foldDimension = dataset.shape[0] // n_folds\n",
    "    finalTheta = None\n",
    "    bestRMSE = float('inf')\n",
    "    sum_r2_mean = 0\n",
    "    sum_rmse_mean = 0\n",
    "    sum_mae_mean = 0\n",
    "\n",
    "    for i in range(n_folds):\n",
    "        startFold = i * foldDimension\n",
    "        endFold = (i + 1) * foldDimension\n",
    "\n",
    "        training_set = dataset.drop(index=range(startFold, endFold)).reset_index(drop=True)\n",
    "        x_training = training_set.drop('price', axis=1).values\n",
    "        y_training = training_set['price'].values\n",
    "\n",
    "        test_set = dataset.loc[startFold:endFold-1].reset_index(drop=True)\n",
    "        x_test = test_set.drop('price', axis=1).values\n",
    "        y_test = test_set['price'].values\n",
    "\n",
    "        m = len(training_set)\n",
    "        theta = np.random.uniform(-np.max(y_training), np.max(y_training), size=x_training.shape[1])\n",
    "        thetaTrain = gradientDescent(alpha, tolerance, theta, x_training, y_training, m)\n",
    "\n",
    "        prediction = predictions(x_test, thetaTrain)\n",
    "        r2, mae, rmse = modelEvaluation(prediction, y_test)\n",
    "\n",
    "        if rmse < bestRMSE:\n",
    "            bestRMSE = rmse\n",
    "            finalTheta = thetaTrain\n",
    "\n",
    "        sum_mae_mean += mae\n",
    "        sum_r2_mean += r2\n",
    "        sum_rmse_mean += rmse\n",
    "\n",
    "    avg_mae = sum_mae_mean / n_folds\n",
    "    avg_r2 = sum_r2_mean / n_folds\n",
    "    avg_rmse = sum_rmse_mean / n_folds\n",
    "\n",
    "    return finalTheta, avg_r2, avg_mae, avg_rmse\n"
   ]
  },
  {
   "cell_type": "markdown",
   "metadata": {},
   "source": [
    "### Test con cross validazione"
   ]
  },
  {
   "cell_type": "markdown",
   "metadata": {},
   "source": [
    "Carico il dataset"
   ]
  },
  {
   "cell_type": "code",
   "execution_count": 150,
   "metadata": {},
   "outputs": [],
   "source": [
    "dataset = pd.read_csv('cars_numeric.csv')\n",
    "\n",
    "# è meglio mischaire le righe del dataset\n",
    "dataset = dataset.sample(frac=1).reset_index(drop=True)\n",
    "\n",
    "# bisogna inserire la colonna di bias\n",
    "dataset.insert(0, 'bias', np.ones(dataset.shape[0]), True)"
   ]
  },
  {
   "cell_type": "code",
   "execution_count": 151,
   "metadata": {},
   "outputs": [
    {
     "name": "stdout",
     "output_type": "stream",
     "text": [
      "\n",
      "******* TEST CON CROSS-VALIDAZIONE *******\n",
      "########## MODELLO ##########\n",
      "\n",
      "LGND: price = Theta * feature\n",
      "\n",
      "price = \n",
      "\t13185.33884 * bias +\n",
      "\t194.34995 * symboling +\n",
      "\t-464.61559 * normalized-losses +\n",
      "\t-1068.89491 * make +\n",
      "\t2863.27709 * fuel-type +\n",
      "\t788.81714 * aspiration +\n",
      "\t37.61788 * num-of-doors +\n",
      "\t-231.19123 * body-style +\n",
      "\t-670.68624 * drive-wheels +\n",
      "\t1429.12723 * engine-location +\n",
      "\t424.80253 * wheel-base +\n",
      "\t187.32459 * length +\n",
      "\t838.13768 * width +\n",
      "\t300.90602 * height +\n",
      "\t1185.10044 * curb-weight +\n",
      "\t57.60723 * engine-type +\n",
      "\t1284.19179 * num-of-cylinders +\n",
      "\t4083.79844 * engine-size +\n",
      "\t-997.33495 * fuel-system +\n",
      "\t-151.67563 * bore +\n",
      "\t-738.50086 * stroke +\n",
      "\t-1868.02657 * compression-ratio +\n",
      "\t-40.35968 * horsepower +\n",
      "\t915.27742 * peak-rpm +\n",
      "\t-1432.80111 * city-mpg +\n",
      "\t1717.79961 * highway-mpg +\n",
      "\n",
      "########## RISULTATI VALUTAZIONE ##########\n",
      "\n",
      "R2 = 0.85136\n",
      "Mean absolute error = 2094.67976\n",
      "Root Mean Squared Error = 2811.50312\n"
     ]
    }
   ],
   "source": [
    "print('\\n******* TEST CON CROSS-VALIDAZIONE *******')\n",
    "alpha = 0.01\n",
    "tolerance = 0.00000001\n",
    "(finalTheta, r2, mae, rmse) = crossValidation(alpha, tolerance, 10, dataset)\n",
    "\n",
    "printLinRegFunction(theta=finalTheta, data=dataset)\n",
    "printEvaluationResults(r2=r2, mae=mae, rmse=rmse)"
   ]
  },
  {
   "cell_type": "code",
   "execution_count": 152,
   "metadata": {},
   "outputs": [
    {
     "name": "stdout",
     "output_type": "stream",
     "text": [
      "\n",
      "******* TEST CON CROSS-VALIDAZIONE V2*******\n",
      "########## MODELLO ##########\n",
      "\n",
      "LGND: price = Theta * feature\n",
      "\n",
      "price = \n",
      "\t13185.33884 * bias +\n",
      "\t194.34992 * symboling +\n",
      "\t-464.61548 * normalized-losses +\n",
      "\t-1068.89499 * make +\n",
      "\t2863.27355 * fuel-type +\n",
      "\t788.81743 * aspiration +\n",
      "\t37.61786 * num-of-doors +\n",
      "\t-231.19129 * body-style +\n",
      "\t-670.68616 * drive-wheels +\n",
      "\t1429.12726 * engine-location +\n",
      "\t424.80269 * wheel-base +\n",
      "\t187.32451 * length +\n",
      "\t838.13756 * width +\n",
      "\t300.90613 * height +\n",
      "\t1185.10052 * curb-weight +\n",
      "\t57.60728 * engine-type +\n",
      "\t1284.19175 * num-of-cylinders +\n",
      "\t4083.79852 * engine-size +\n",
      "\t-997.33479 * fuel-system +\n",
      "\t-151.67555 * bore +\n",
      "\t-738.50074 * stroke +\n",
      "\t-1868.0233 * compression-ratio +\n",
      "\t-40.35982 * horsepower +\n",
      "\t915.27728 * peak-rpm +\n",
      "\t-1432.80144 * city-mpg +\n",
      "\t1717.79975 * highway-mpg +\n",
      "\n",
      "########## RISULTATI VALUTAZIONE ##########\n",
      "\n",
      "R2 = 0.85136\n",
      "Mean absolute error = 2094.68029\n",
      "Root Mean Squared Error = 2811.5036\n"
     ]
    }
   ],
   "source": [
    "print('\\n******* TEST CON CROSS-VALIDAZIONE V2*******')\n",
    "alpha = 0.01\n",
    "tolerance = 0.00000001\n",
    "(finalTheta, r2, mae, rmse) = crossValidationV2(alpha, tolerance, 10, dataset)\n",
    "\n",
    "printLinRegFunction(theta=finalTheta, data=dataset)\n",
    "printEvaluationResults(r2=r2, mae=mae, rmse=rmse)"
   ]
  }
 ],
 "metadata": {
  "kernelspec": {
   "display_name": "Python 3",
   "language": "python",
   "name": "python3"
  },
  "language_info": {
   "codemirror_mode": {
    "name": "ipython",
    "version": 3
   },
   "file_extension": ".py",
   "mimetype": "text/x-python",
   "name": "python",
   "nbconvert_exporter": "python",
   "pygments_lexer": "ipython3",
   "version": "3.10.9"
  },
  "orig_nbformat": 4
 },
 "nbformat": 4,
 "nbformat_minor": 2
}
