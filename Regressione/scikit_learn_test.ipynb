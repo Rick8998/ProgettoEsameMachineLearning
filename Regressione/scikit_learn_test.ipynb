{
 "cells": [
  {
   "cell_type": "markdown",
   "metadata": {},
   "source": [
    "### Viene usata la libreria scikit-learn per verificare i risultati ottenuti in lin_reg.ipynb"
   ]
  },
  {
   "cell_type": "code",
   "execution_count": 31,
   "metadata": {},
   "outputs": [],
   "source": [
    "import numpy as np\n",
    "import pandas as pd\n",
    "import matplotlib.pyplot as plt\n",
    "from sklearn import linear_model\n",
    "from sklearn.linear_model import LinearRegression\n",
    "from sklearn.metrics import r2_score, mean_absolute_error, mean_squared_error\n",
    "from sklearn.model_selection import train_test_split, cross_val_score"
   ]
  },
  {
   "cell_type": "markdown",
   "metadata": {},
   "source": [
    "Funzioni di stampa"
   ]
  },
  {
   "cell_type": "code",
   "execution_count": 32,
   "metadata": {},
   "outputs": [],
   "source": [
    "def printLinRegFunction(theta, data):\n",
    "    print(\"########## MODELLO ##########\")\n",
    "    print('\\nLGND: ' + data.columns.values[len(theta)] + \" = Theta * feature\")\n",
    "    print('\\n' + data.columns.values[len(theta)] + \" = \")\n",
    "    for i in range(len(theta)):\n",
    "        print('\\t' + str(round(theta[i], 5)) + ' * ' + data.columns.values[i] + ' +')\n",
    "\n",
    "\n",
    "def printEvaluationResults(r2, mae, rmse):\n",
    "    print('\\n########## RISULTATI VALUTAZIONE ##########')\n",
    "    print('\\nR2 = ' + str(round(r2, 5)))\n",
    "    print('Mean Absolute Error = ' + str(round(mae, 5)))\n",
    "    print('Root Mean Squared Error = ' + str(round(rmse, 5)))"
   ]
  },
  {
   "cell_type": "code",
   "execution_count": 33,
   "metadata": {},
   "outputs": [],
   "source": [
    "dataset = pd.read_csv('cars_numeric.csv')\n",
    "\n",
    "x = dataset.drop('price', axis=1).values\n",
    "y = dataset['price'].values\n",
    "\n",
    "linear_regression = LinearRegression()\n",
    "\n",
    "\n",
    "\n",
    "x_training, x_test, y_training, y_test = train_test_split(x, y, test_size = 0.3, random_state = 0)\n",
    "\n",
    "linear_regression.fit(x_training, y_training)\n",
    "\n",
    "prediction = linear_regression.predict(x_test)\n",
    "\n",
    "r2 = r2_score(y_test, prediction)\n",
    "mae = mean_absolute_error(y_test, prediction)\n",
    "rmse = mean_squared_error(y_test, prediction, squared=False)"
   ]
  },
  {
   "cell_type": "code",
   "execution_count": 34,
   "metadata": {},
   "outputs": [
    {
     "name": "stdout",
     "output_type": "stream",
     "text": [
      "(scikit-learn) - VALUTAZIONE DEL MODELLO TRAMITE SPLIT 70/30\n",
      "########## MODELLO ##########\n",
      "\n",
      "LGND: price = Theta * feature\n",
      "\n",
      "price = \n",
      "\t-156.48848 * symboling +\n",
      "\t-389.70055 * normalized-losses +\n",
      "\t-1148.38268 * make +\n",
      "\t2346.44335 * fuel-type +\n",
      "\t1235.31326 * aspiration +\n",
      "\t-366.98634 * num-of-doors +\n",
      "\t-404.41418 * body-style +\n",
      "\t-584.51593 * drive-wheels +\n",
      "\t-0.0 * engine-location +\n",
      "\t469.06136 * wheel-base +\n",
      "\t1683.28608 * length +\n",
      "\t-74.37712 * width +\n",
      "\t165.5025 * height +\n",
      "\t1080.78942 * curb-weight +\n",
      "\t192.80566 * engine-type +\n",
      "\t1510.1367 * num-of-cylinders +\n",
      "\t3386.3421 * engine-size +\n",
      "\t-1018.61062 * fuel-system +\n",
      "\t-503.942 * bore +\n",
      "\t-883.74193 * stroke +\n",
      "\t-1440.39604 * compression-ratio +\n",
      "\t41.09742 * horsepower +\n",
      "\t712.52129 * peak-rpm +\n",
      "\t-828.72485 * city-mpg +\n",
      "\t1156.23392 * highway-mpg +\n",
      "\n",
      "########## RISULTATI VALUTAZIONE ##########\n",
      "\n",
      "R2 = 0.75362\n",
      "Mean Absolute Error = 2918.68401\n",
      "Root Mean Squared Error = 4594.87981\n"
     ]
    }
   ],
   "source": [
    "print(\"(scikit-learn) - VALUTAZIONE DEL MODELLO TRAMITE SPLIT 70/30\")\n",
    "printLinRegFunction(linear_regression.coef_, dataset)\n",
    "printEvaluationResults(r2, mae, rmse)"
   ]
  },
  {
   "cell_type": "code",
   "execution_count": 35,
   "metadata": {},
   "outputs": [
    {
     "data": {
      "image/png": "[encoded data removed]",
      "text/plain": [
       "<Figure size 720x720 with 1 Axes>"
      ]
     },
     "metadata": {
      "needs_background": "light"
     },
     "output_type": "display_data"
    }
   ],
   "source": [
    "plt.figure(figsize=(10,10))\n",
    "plt.scatter(x = y_test, y = prediction, c='red') \n",
    "plt.title(\"TEST RESULTS\\nSPLIT 70% TRAIN - 30% TEST\", fontsize=20)\n",
    "plt.xlabel(\"Prezzo effettivo\", fontsize=20)\n",
    "plt.ylabel(\"Prezzo predetto\", fontsize=20)\n",
    "plt.show()"
   ]
  },
  {
   "cell_type": "markdown",
   "metadata": {},
   "source": [
    "### Cross Validazione"
   ]
  },
  {
   "cell_type": "code",
   "execution_count": 37,
   "metadata": {},
   "outputs": [
    {
     "name": "stdout",
     "output_type": "stream",
     "text": [
      "\n",
      "########## RISULTATI VALUTAZIONE ##########\n",
      "\n",
      "R2 = 0.69439\n",
      "Mean Absolute Error = 2903.06933\n",
      "Root Mean Squared Error = 3879.80389\n"
     ]
    }
   ],
   "source": [
    "r2_array = cross_val_score(linear_regression, x, y, cv = 10, scoring = 'r2')\n",
    "mae_array = cross_val_score(linear_regression, x, y, cv = 10, scoring = 'neg_mean_absolute_error')\n",
    "rmse_array = cross_val_score(linear_regression, x, y, cv = 10, scoring = 'neg_root_mean_squared_error')\n",
    "\n",
    "printEvaluationResults(np.mean(np.abs(r2_array)), -(np.mean(mae_array)), -(np.mean(rmse_array)))"
   ]
  }
 ],
 "metadata": {
  "kernelspec": {
   "display_name": "base",
   "language": "python",
   "name": "python3"
  },
  "language_info": {
   "codemirror_mode": {
    "name": "ipython",
    "version": 3
   },
   "file_extension": ".py",
   "mimetype": "text/x-python",
   "name": "python",
   "nbconvert_exporter": "python",
   "pygments_lexer": "ipython3",
   "version": "3.10.9"
  },
  "orig_nbformat": 4
 },
 "nbformat": 4,
 "nbformat_minor": 2
}
